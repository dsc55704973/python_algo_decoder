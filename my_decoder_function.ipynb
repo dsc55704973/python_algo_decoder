{
 "cells": [
  {
   "cell_type": "code",
   "execution_count": 1,
   "id": "af6c439b-00d8-4a46-b7b2-edd8b7f8508c",
   "metadata": {},
   "outputs": [],
   "source": [
    "def decode(filepath):\n",
    "    # Read data from the file and store it in a dictionary with numeric keys\n",
    "    data_dict = {}\n",
    "    with open(filepath, 'r') as file:\n",
    "        for line in file:\n",
    "            parts = line.strip().split()\n",
    "            if len(parts) == 2:\n",
    "                key = int(parts[0])\n",
    "                value = parts[1]\n",
    "                data_dict[key] = value\n",
    "\n",
    "    # Generate a list representing the pyramid structure\n",
    "    pyramid = []\n",
    "    current_index = 1\n",
    "    level = 1\n",
    "    while current_index in data_dict:\n",
    "        # Determine the number of elements in the current level\n",
    "        level_elements = []\n",
    "        for i in range(level):\n",
    "            if current_index in data_dict:\n",
    "                level_elements.append(current_index)  # Use the key (integer) itself for the pyramid structure\n",
    "                current_index += 1\n",
    "            else:\n",
    "                break\n",
    "        if level_elements:  # Ensure that no empty levels are added\n",
    "            pyramid.append(level_elements)\n",
    "        level += 1  # Move to the next level\n",
    "\n",
    "    # Indices of interest for decoding the message\n",
    "    indices_of_interest = [1, 3, 6]\n",
    "\n",
    "    # Store the resulting strings in a list for the decoded message\n",
    "    decoded_message = []\n",
    "    for index in indices_of_interest:\n",
    "        if index in data_dict:\n",
    "            decoded_message.append(data_dict[index])  # Directly access the desired indices in the data dictionary\n",
    "        else:\n",
    "            decoded_message.append(None)  # If no corresponding index, append None\n",
    "\n",
    "    return pyramid, decoded_message\n"
   ]
  },
  {
   "cell_type": "code",
   "execution_count": 2,
   "id": "75a6adeb-fe84-486d-8ce3-d245fd161790",
   "metadata": {},
   "outputs": [
    {
     "name": "stdout",
     "output_type": "stream",
     "text": [
      "([[1], [2, 3], [4, 5, 6], [7, 8, 9, 10], [11, 12, 13, 14, 15], [16, 17, 18, 19, 20, 21], [22, 23, 24, 25, 26, 27, 28], [29, 30, 31, 32, 33, 34, 35, 36], [37, 38, 39, 40, 41, 42, 43, 44, 45], [46, 47, 48, 49, 50, 51, 52, 53, 54, 55], [56, 57, 58, 59, 60, 61, 62, 63, 64, 65, 66], [67, 68, 69, 70, 71, 72, 73, 74, 75, 76, 77, 78], [79, 80, 81, 82, 83, 84, 85, 86, 87, 88, 89, 90, 91], [92, 93, 94, 95, 96, 97, 98, 99, 100, 101, 102, 103, 104, 105], [106, 107, 108, 109, 110, 111, 112, 113, 114, 115, 116, 117, 118, 119, 120], [121, 122, 123, 124, 125, 126, 127, 128, 129, 130, 131, 132, 133, 134, 135, 136], [137, 138, 139, 140, 141, 142, 143, 144, 145, 146, 147, 148, 149, 150, 151, 152, 153], [154, 155, 156, 157, 158, 159, 160, 161, 162, 163, 164, 165, 166, 167, 168, 169, 170, 171], [172, 173, 174, 175, 176, 177, 178, 179, 180, 181, 182, 183, 184, 185, 186, 187, 188, 189, 190], [191, 192, 193, 194, 195, 196, 197, 198, 199, 200, 201, 202, 203, 204, 205, 206, 207, 208, 209, 210], [211, 212, 213, 214, 215, 216, 217, 218, 219, 220, 221, 222, 223, 224, 225, 226, 227, 228, 229, 230, 231], [232, 233, 234, 235, 236, 237, 238, 239, 240, 241, 242, 243, 244, 245, 246, 247, 248, 249, 250, 251, 252, 253], [254, 255, 256, 257, 258, 259, 260, 261, 262, 263, 264, 265, 266, 267, 268, 269, 270, 271, 272, 273, 274, 275, 276], [277, 278, 279, 280, 281, 282, 283, 284, 285, 286, 287, 288, 289, 290, 291, 292, 293, 294, 295, 296, 297, 298, 299, 300]], ['top', 'secret', 'message'])\n"
     ]
    }
   ],
   "source": [
    "print(decode('coding_qual_input.txt'))"
   ]
  }
 ],
 "metadata": {
  "kernelspec": {
   "display_name": "Python 3 (ipykernel)",
   "language": "python",
   "name": "python3"
  },
  "language_info": {
   "codemirror_mode": {
    "name": "ipython",
    "version": 3
   },
   "file_extension": ".py",
   "mimetype": "text/x-python",
   "name": "python",
   "nbconvert_exporter": "python",
   "pygments_lexer": "ipython3",
   "version": "3.11.7"
  }
 },
 "nbformat": 4,
 "nbformat_minor": 5
}
